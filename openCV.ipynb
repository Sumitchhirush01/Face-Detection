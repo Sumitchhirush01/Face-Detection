{
 "cells": [
  {
   "cell_type": "code",
   "execution_count": 8,
   "id": "4e707cba",
   "metadata": {},
   "outputs": [],
   "source": [
    "import cv2\n",
    "import numpy as np"
   ]
  },
  {
   "cell_type": "code",
   "execution_count": 9,
   "id": "4cfdf02b",
   "metadata": {},
   "outputs": [],
   "source": [
    "face_cascade=cv2.CascadeClassifier(\"haarcascade_frontalface_default.xml\")\n"
   ]
  },
  {
   "cell_type": "code",
   "execution_count": 10,
   "id": "d58232c0",
   "metadata": {},
   "outputs": [],
   "source": [
    "#live face detection\n",
    "width = 280\n",
    "hieght = 200\n",
    "channel = 3\n",
    " \n",
    "fps = 30\n",
    "sec = 5\n",
    "cap=cv2.VideoCapture(0)\n",
    "\n",
    "while True:\n",
    "    response,live_video=cap.read()\n",
    "    \n",
    "    faces=face_cascade.detectMultiScale(live_video,1.1)\n",
    "    for (x,y,w,h) in faces:\n",
    "        cv2.rectangle(live_video,(x,y),((x+w),(y+h)),(0,0,225),3)\n",
    "    cv2.imshow(\"img\",live_video)\n",
    "    if cv2.waitKey(1) & 0xff==ord('q'):\n",
    "        break\n",
    "cap.release()\n",
    "cv2.destroyAllWindows()"
   ]
  },
  {
   "cell_type": "code",
   "execution_count": 15,
   "id": "5850d54d",
   "metadata": {},
   "outputs": [],
   "source": [
    "path=r\"\"\"C:\\Users\\sumit\\Pictures\\Saved Pictures\"\"\"\n",
    "img_name=\"photo1.jpg\"\n",
    "img=cv2.imread(path+'\\\\' + img_name)\n",
    "img=cv2.resize(img,(600,400))\n",
    "cv2.imshow('Image',img)\n",
    "cv2.waitKey(0)\n",
    "cv2.destroyAllWindows()"
   ]
  },
  {
   "cell_type": "code",
   "execution_count": 14,
   "id": "9c1fc73d",
   "metadata": {},
   "outputs": [],
   "source": [
    "#face detection in saved photo\n",
    "path=r\"\"\"C:\\Users\\sumit\\Pictures\\Saved Pictures\"\"\"\n",
    "img_name=\"photo1.jpg\"\n",
    "img=cv2.imread(path+'\\\\' + img_name)\n",
    "img=cv2.resize(img,(600,400))\n",
    "faces=face_cascade.detectMultiScale(img,1.1)\n",
    "for (x,y,w,h) in faces:\n",
    "        cv2.rectangle(img,(x,y),((x+w),(y+h)),(0,0,225),3)\n",
    "cv2.imshow('Image',img)\n",
    "cv2.waitKey(0)\n",
    "cv2.destroyAllWindows()"
   ]
  },
  {
   "cell_type": "code",
   "execution_count": 12,
   "id": "09c9e3b2",
   "metadata": {},
   "outputs": [],
   "source": [
    "#live sketch\n",
    "cap=cv2.VideoCapture(0)\n",
    "\n",
    "while True:\n",
    "    ret,frame=cap.read()\n",
    "    img=cv2.cvtColor(frame,cv2.COLOR_BGR2GRAY)\n",
    "    img=cv2.GaussianBlur(img,(7,7),0)\n",
    "    img=cv2.Canny(img,10,70)\n",
    "    ret2,img=cv2.threshold(img,100,255,cv2.THRESH_BINARY_INV)\n",
    "    cv2.imshow(\"img\",img)\n",
    "    if cv2.waitKey(1)==ord('q'):\n",
    "        break\n",
    "cap.release()\n",
    "cv2.destroyAllWindows()"
   ]
  },
  {
   "cell_type": "code",
   "execution_count": null,
   "id": "c10a6933",
   "metadata": {},
   "outputs": [],
   "source": []
  }
 ],
 "metadata": {
  "kernelspec": {
   "display_name": "Python 3",
   "language": "python",
   "name": "python3"
  },
  "language_info": {
   "codemirror_mode": {
    "name": "ipython",
    "version": 3
   },
   "file_extension": ".py",
   "mimetype": "text/x-python",
   "name": "python",
   "nbconvert_exporter": "python",
   "pygments_lexer": "ipython3",
   "version": "3.8.8"
  }
 },
 "nbformat": 4,
 "nbformat_minor": 5
}
